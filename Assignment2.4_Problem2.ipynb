'''
Q. Write a function filter_long_words() that takes a list of words and an integer n and returns
the list of words that are longer than n.
'''
n = int(input("Enter an integer value : ")) # the integer for which li element to be returned whose length > n

li =["Hello","this","is","Python","Programming"]
filter_long_words = lambda x: True if (len(x) > 
                                       n) else False


words =list(filter(filter_long_words,li))
print(words)
