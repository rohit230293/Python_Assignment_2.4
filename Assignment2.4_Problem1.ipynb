'''
Q. Problem Statement 1:
Write a Python Program(with class concepts) to find the area of the triangle using the
below formula.
area = (s*(s-a)*(s-b)*(s-c)) ** 0.5
Function to take the length of the sides of triangle from user should be defined in the
parent class and function to calculate the area should be defined in subclass.
'''
class Mybaseclass:
     def __init__(self,a = 0,b = 0, c = 0):
            self.a = a 
            self.b = b
            self.c = c
     
     def set_sides(self):
            self.a = int(input("Enter the length of side 1: "))
            self.b = int(input("Enter the length of side 2: "))
            self.c = int(input("Enter the length of side 3: "))
        
class Mysubclass(Mybaseclass):
    def area(self):
        self.s = (self.a+self.b+self.c)/2
        ar = ((self.s-self.a)*(self.s-self.b)*(self.s-self.c) *self.s)**0.5
        print("Area of the triangle is ",ar)
        
    

c = Mysubclass()
c.set_sides()
c.area()
